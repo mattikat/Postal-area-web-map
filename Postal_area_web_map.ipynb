{
 "cells": [
  {
   "cell_type": "code",
   "execution_count": 2,
   "metadata": {},
   "outputs": [],
   "source": [
    "from pyproj import CRS\n",
    "import geopandas as gpd\n",
    "import folium\n",
    "import requests\n",
    "import geojson\n",
    "\n",
    "# URL to the WFS server\n",
    "url = 'https://paituli.csc.fi/geoserver/paituli/wfs?'\n",
    "\n",
    "# Specify parameters (read data in json format). \n",
    "params = dict(service='wfs', \n",
    "              version='2.0.0', \n",
    "              request='GetFeature', \n",
    "              typeName='paituli:tike_paavo_2021', \n",
    "              outputFormat='json')\n",
    "\n",
    "# Fetch data from WFS using requests\n",
    "r = requests.get(url, params=params)\n",
    "    \n",
    "# Create GeoDataFrame from geojson\n",
    "data = gpd.GeoDataFrame.from_features(geojson.loads(r.content))\n",
    "\n",
    "# Add description of crs from 3067 and reproject to Web Mercator     \n",
    "data.crs = CRS.from_epsg(3067)\n",
    "data = data.to_crs(3857)"
   ]
  },
  {
   "cell_type": "code",
   "execution_count": 3,
   "metadata": {},
   "outputs": [],
   "source": [
    "# Use only needed columns\n",
    "geo_series = data[['geometry','postinumer','nimi']]\n",
    "\n",
    "# Create map instance\n",
    "m = folium.Map(location = [64,27],\n",
    "               zoom_start=5,\n",
    "               tiles='CartoDBdark_matter',\n",
    "               control_scale=True,\n",
    "               max_bounds=True\n",
    "              )\n",
    "# Add features\n",
    "folium.features.GeoJson(geo_series,\n",
    "                        tooltip=folium.features.GeoJsonTooltip(fields=['postinumer','nimi'],\n",
    "                                                                aliases=['Postal code', 'Name'],\n",
    "                                                                labels=True,\n",
    "                                                                sticky=True\n",
    "                                                                            )\n",
    "                       ).add_to(m)\n",
    "    \n",
    "folium.LayerControl().add_to(m)\n",
    "m.save('docs/Postal_areas.html')"
   ]
  },
  {
   "cell_type": "code",
   "execution_count": null,
   "metadata": {},
   "outputs": [],
   "source": []
  }
 ],
 "metadata": {
  "kernelspec": {
   "display_name": "Python 3",
   "language": "python",
   "name": "python3"
  },
  "language_info": {
   "codemirror_mode": {
    "name": "ipython",
    "version": 3
   },
   "file_extension": ".py",
   "mimetype": "text/x-python",
   "name": "python",
   "nbconvert_exporter": "python",
   "pygments_lexer": "ipython3",
   "version": "3.8.6"
  }
 },
 "nbformat": 4,
 "nbformat_minor": 4
}
