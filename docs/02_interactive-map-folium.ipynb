{
 "cells": [
  {
   "cell_type": "markdown",
   "metadata": {
    "deletable": true,
    "editable": true
   },
   "source": [
    "# Interactive maps\n",
    "\n",
    "In this tutorial we will learn how to publish data from Python on interactive [leaflet.js](http://leafletjs.com/) maps. \n",
    "\n",
    "JavaScript (JS)  is a programming language for adding interactive content (such a zoomamble maps!) on webpages. [Leaflet](http://leafletjs.com/) is a popular JavaScript library for creating interactive maps for webpages ([OpenLayers](https://openlayers.org/) is another JavaScript library for the same purpose). \n",
    "\n",
    "Here, will mainly focus on [Folium](https://python-visualization.github.io/folium/) - a Python library that makes it easy to convert data from (Geo)DataFrames into interactive Leaflet maps.\n",
    "\n",
    "<div class=\"alert alert-info\">\n",
    "\n",
    "**Explore also...**\n",
    "    \n",
    "Other interesting libraries for creating interactive visualizations from spatial data:\n",
    "    \n",
    "- [mapboxgl](https://github.com/mapbox/mapboxgl-jupyter)\n",
    "- [Bokeh](https://docs.bokeh.org/en/latest/)\n",
    "- [Geoviews](http://geoviews.org/)\n",
    "- [plotly express](https://plotly.com/python/maps/)\n",
    "\n",
    "</div>\n"
   ]
  },
  {
   "cell_type": "markdown",
   "metadata": {},
   "source": [
    "## Folium\n",
    "\n",
    "\n",
    "[Folium](https://github.com/python-visualization/folium)  is a Python library that makes\n",
    "it possible visualize data on an interactive Leaflet map.\n",
    "\n",
    "**Resources:**\n",
    "\n",
    "- [Folium Documentation](https://python-visualization.github.io/folium/)\n",
    "- [Example Gallery](https://nbviewer.jupyter.org/github/python-visualization/folium/tree/master/examples/)\n",
    "- [Folium Quickstart](https://python-visualization.github.io/folium/quickstart.html)\n"
   ]
  },
  {
   "cell_type": "markdown",
   "metadata": {},
   "source": [
    "### Creating a simple interactive web-map\n",
    "\n",
    "Import folium and other useful packages:"
   ]
  },
  {
   "cell_type": "code",
   "execution_count": 1,
   "metadata": {},
   "outputs": [],
   "source": [
    "import folium"
   ]
  },
  {
   "cell_type": "code",
   "execution_count": 2,
   "metadata": {},
   "outputs": [],
   "source": [
    "from pyproj import crs\n",
    "import geopandas as gpd\n",
    "import matplotlib.pyplot as plt"
   ]
  },
  {
   "cell_type": "markdown",
   "metadata": {},
   "source": [
    "We will start by creating a simple interactive web-map without any data on it. We just visualize OpenStreetMap on a specific location of the world.\n",
    "\n",
    "First thing that we need to do is to create [a Map instance](https://python-visualization.github.io/folium/modules.html#folium.folium.Map) and define a location for zooming in the data: "
   ]
  },
  {
   "cell_type": "code",
   "execution_count": 3,
   "metadata": {
    "deletable": true,
    "editable": true
   },
   "outputs": [],
   "source": [
    "# Create a Map instance\n",
    "m = folium.Map(location=[60.25,24.8], zoom_start=10)"
   ]
  },
  {
   "cell_type": "markdown",
   "metadata": {
    "deletable": true,
    "editable": true
   },
   "source": [
    "The first parameter ``location`` takes a pair of lat, lon values as list as an input which will determine where the map will be positioned when user opens up the map. ``zoom_start`` -parameter adjusts the default zoom-level for the map (the higher the number the closer the zoom is). ``control_scale`` defines if map should have a scalebar or not."
   ]
  },
  {
   "cell_type": "markdown",
   "metadata": {
    "deletable": true,
    "editable": true
   },
   "source": [
    "Let's see what our map looks like: "
   ]
  },
  {
   "cell_type": "code",
   "execution_count": 4,
   "metadata": {
    "collapsed": false,
    "deletable": true,
    "editable": true,
    "jupyter": {
     "outputs_hidden": false
    }
   },
   "outputs": [
    {
     "data": {
      "text/html": [
       "<div style=\"width:100%;\"><div style=\"position:relative;width:100%;height:0;padding-bottom:60%;\"><span style=\"color:#565656\">Make this Notebook Trusted to load map: File -> Trust Notebook</span><iframe src=\"about:blank\" style=\"position:absolute;width:100%;height:100%;left:0;top:0;border:none !important;\" data-html=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 onload=\"this.contentDocument.open();this.contentDocument.write(atob(this.getAttribute('data-html')));this.contentDocument.close();\" allowfullscreen webkitallowfullscreen mozallowfullscreen></iframe></div></div>"
      ],
      "text/plain": [
       "<folium.folium.Map at 0x7f8784274340>"
      ]
     },
     "execution_count": 4,
     "metadata": {},
     "output_type": "execute_result"
    }
   ],
   "source": [
    "m"
   ]
  },
  {
   "cell_type": "markdown",
   "metadata": {
    "deletable": true,
    "editable": true
   },
   "source": [
    "We can also save the map as a html file:"
   ]
  },
  {
   "cell_type": "code",
   "execution_count": 5,
   "metadata": {
    "collapsed": false,
    "deletable": true,
    "editable": true,
    "jupyter": {
     "outputs_hidden": false
    }
   },
   "outputs": [],
   "source": [
    "outfp = 'base_map.html'\n",
    "m.save(outfp)"
   ]
  },
  {
   "cell_type": "markdown",
   "metadata": {
    "deletable": true,
    "editable": true
   },
   "source": [
    "\n",
    "You should now see a html file in your working directory. You can open the file in a web-browser in order to see the map, or in a text editor in order to see the source definition.\n",
    "\n",
    "\n",
    "Let's create another map with different settings (location, bacground map, zoom levels etc). See documentation of the [Map() object](https://python-visualization.github.io/folium/modules.html#folium.folium.Map) for all avaiable options.\n",
    "    \n",
    "``tiles`` -parameter is used for changing the background map provider and map style (see the [documentation](https://python-visualization.github.io/folium/modules.html#folium.folium.Map) for all in-built options).\n"
   ]
  },
  {
   "cell_type": "code",
   "execution_count": 6,
   "metadata": {
    "collapsed": false,
    "deletable": true,
    "editable": true,
    "jupyter": {
     "outputs_hidden": false
    }
   },
   "outputs": [
    {
     "data": {
      "text/html": [
       "<div style=\"width:100%;\"><div style=\"position:relative;width:100%;height:0;padding-bottom:60%;\"><span style=\"color:#565656\">Make this Notebook Trusted to load map: File -> Trust Notebook</span><iframe src=\"about:blank\" style=\"position:absolute;width:100%;height:100%;left:0;top:0;border:none !important;\" data-html=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 onload=\"this.contentDocument.open();this.contentDocument.write(atob(this.getAttribute('data-html')));this.contentDocument.close();\" allowfullscreen webkitallowfullscreen mozallowfullscreen></iframe></div></div>"
      ],
      "text/plain": [
       "<folium.folium.Map at 0x7f87841f2310>"
      ]
     },
     "execution_count": 6,
     "metadata": {},
     "output_type": "execute_result"
    }
   ],
   "source": [
    "# Let's change the basemap style to 'Stamen Toner'\n",
    "m = folium.Map(location=[60.25,24.8],\n",
    "               zoom_start=10,\n",
    "              tiles='Stamen Toner')\n",
    "m"
   ]
  },
  {
   "cell_type": "markdown",
   "metadata": {
    "deletable": true,
    "editable": true
   },
   "source": [
    "### Adding layers to the map\n",
    "\n",
    "Let's first have a look how we can add a simple [marker](https://python-visualization.github.io/folium/modules.html?highlight=marker#folium.map.Marker) on the webmap:"
   ]
  },
  {
   "cell_type": "code",
   "execution_count": 7,
   "metadata": {
    "collapsed": false,
    "jupyter": {
     "outputs_hidden": false
    }
   },
   "outputs": [
    {
     "data": {
      "text/html": [
       "<div style=\"width:100%;\"><div style=\"position:relative;width:100%;height:0;padding-bottom:60%;\"><span style=\"color:#565656\">Make this Notebook Trusted to load map: File -> Trust Notebook</span><iframe src=\"about:blank\" style=\"position:absolute;width:100%;height:100%;left:0;top:0;border:none !important;\" data-html=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 onload=\"this.contentDocument.open();this.contentDocument.write(atob(this.getAttribute('data-html')));this.contentDocument.close();\" allowfullscreen webkitallowfullscreen mozallowfullscreen></iframe></div></div>"
      ],
      "text/plain": [
       "<folium.folium.Map at 0x7f87841f7040>"
      ]
     },
     "execution_count": 7,
     "metadata": {},
     "output_type": "execute_result"
    }
   ],
   "source": [
    "# Create a Map instance\n",
    "m = folium.Map(location=[60.25,24.8],\n",
    "               zoom_start=10)\n",
    "\n",
    "# Add marker\n",
    "# Run: help(folium.Icon) for more info about icons\n",
    "folium.Marker(location=[60.20426,24.96],\n",
    "              popup='Kumpula campus',\n",
    "              icon=folium.Icon(color='green', icon='ok_sign')\n",
    "             ).add_to(m)\n",
    "\n",
    "#Show map\n",
    "m"
   ]
  },
  {
   "cell_type": "markdown",
   "metadata": {
    "deletable": true,
    "editable": true
   },
   "source": [
    "As mentioned, Folium combines the strenghts of data manipulation in Python with the mapping capabilities of Leaflet.js. Eventually, we would like to include the plotting of interactive maps as the last part of our data analysis workflow. \n",
    "\n",
    "Let's see how we can plot data from a geodataframe using folium.\n",
    "\n"
   ]
  },
  {
   "cell_type": "code",
   "execution_count": 11,
   "metadata": {},
   "outputs": [
    {
     "data": {
      "text/html": [
       "<div>\n",
       "<style scoped>\n",
       "    .dataframe tbody tr th:only-of-type {\n",
       "        vertical-align: middle;\n",
       "    }\n",
       "\n",
       "    .dataframe tbody tr th {\n",
       "        vertical-align: top;\n",
       "    }\n",
       "\n",
       "    .dataframe thead th {\n",
       "        text-align: right;\n",
       "    }\n",
       "</style>\n",
       "<table border=\"1\" class=\"dataframe\">\n",
       "  <thead>\n",
       "    <tr style=\"text-align: right;\">\n",
       "      <th></th>\n",
       "      <th>address</th>\n",
       "      <th>id</th>\n",
       "      <th>geometry</th>\n",
       "    </tr>\n",
       "  </thead>\n",
       "  <tbody>\n",
       "    <tr>\n",
       "      <th>0</th>\n",
       "      <td>Kampinkuja 1, 00100 Helsinki, Finland</td>\n",
       "      <td>1001</td>\n",
       "      <td>POINT (24.93017 60.16837)</td>\n",
       "    </tr>\n",
       "    <tr>\n",
       "      <th>1</th>\n",
       "      <td>Kaivokatu 8, 00101 Helsinki, Finland</td>\n",
       "      <td>1002</td>\n",
       "      <td>POINT (24.94189 60.16987)</td>\n",
       "    </tr>\n",
       "    <tr>\n",
       "      <th>2</th>\n",
       "      <td>Hermanstads strandsväg 1, 00580 Helsingfors, F...</td>\n",
       "      <td>1003</td>\n",
       "      <td>POINT (24.97740 60.18736)</td>\n",
       "    </tr>\n",
       "    <tr>\n",
       "      <th>3</th>\n",
       "      <td>Itäväylä, 00900 Helsinki, Finland</td>\n",
       "      <td>1004</td>\n",
       "      <td>POINT (25.09196 60.21448)</td>\n",
       "    </tr>\n",
       "    <tr>\n",
       "      <th>4</th>\n",
       "      <td>Tyynenmerenkatu 9, 00220 Helsinki, Finland</td>\n",
       "      <td>1005</td>\n",
       "      <td>POINT (24.92148 60.15658)</td>\n",
       "    </tr>\n",
       "  </tbody>\n",
       "</table>\n",
       "</div>"
      ],
      "text/plain": [
       "                                             address    id  \\\n",
       "0              Kampinkuja 1, 00100 Helsinki, Finland  1001   \n",
       "1               Kaivokatu 8, 00101 Helsinki, Finland  1002   \n",
       "2  Hermanstads strandsväg 1, 00580 Helsingfors, F...  1003   \n",
       "3                  Itäväylä, 00900 Helsinki, Finland  1004   \n",
       "4         Tyynenmerenkatu 9, 00220 Helsinki, Finland  1005   \n",
       "\n",
       "                    geometry  \n",
       "0  POINT (24.93017 60.16837)  \n",
       "1  POINT (24.94189 60.16987)  \n",
       "2  POINT (24.97740 60.18736)  \n",
       "3  POINT (25.09196 60.21448)  \n",
       "4  POINT (24.92148 60.15658)  "
      ]
     },
     "execution_count": 11,
     "metadata": {},
     "output_type": "execute_result"
    }
   ],
   "source": [
    "# File path\n",
    "points_fp = r\"data/addresses.shp\"\n",
    "\n",
    "# Read the data\n",
    "points = gpd.read_file(points_fp)\n",
    "\n",
    "#Check input data\n",
    "points.head()"
   ]
  },
  {
   "cell_type": "code",
   "execution_count": null,
   "metadata": {},
   "outputs": [],
   "source": []
  },
  {
   "cell_type": "markdown",
   "metadata": {},
   "source": [
    "- conver the points to GeoJSON features using folium:"
   ]
  },
  {
   "cell_type": "code",
   "execution_count": 9,
   "metadata": {
    "collapsed": false,
    "deletable": true,
    "editable": true,
    "jupyter": {
     "outputs_hidden": false
    }
   },
   "outputs": [],
   "source": [
    "# Convert points to GeoJSON\n",
    "points_gjson = folium.features.GeoJson(points, name='Public Transport Stations')"
   ]
  },
  {
   "cell_type": "code",
   "execution_count": 10,
   "metadata": {},
   "outputs": [
    {
     "data": {
      "text/plain": [
       "[{'id': '0',\n",
       "  'type': 'Feature',\n",
       "  'properties': {'address': 'Kampinkuja 1, 00100 Helsinki, Finland',\n",
       "   'id': 1001},\n",
       "  'geometry': {'type': 'Point', 'coordinates': [24.9301701, 60.1683731]},\n",
       "  'bbox': [24.9301701, 60.1683731, 24.9301701, 60.1683731]},\n",
       " {'id': '1',\n",
       "  'type': 'Feature',\n",
       "  'properties': {'address': 'Kaivokatu 8, 00101 Helsinki, Finland',\n",
       "   'id': 1002},\n",
       "  'geometry': {'type': 'Point', 'coordinates': [24.9418933, 60.1698665]},\n",
       "  'bbox': [24.9418933, 60.1698665, 24.9418933, 60.1698665]},\n",
       " {'id': '2',\n",
       "  'type': 'Feature',\n",
       "  'properties': {'address': 'Hermanstads strandsväg 1, 00580 Helsingfors, Finland',\n",
       "   'id': 1003},\n",
       "  'geometry': {'type': 'Point',\n",
       "   'coordinates': [24.9774004, 60.18735880000001]},\n",
       "  'bbox': [24.9774004, 60.18735880000001, 24.9774004, 60.18735880000001]},\n",
       " {'id': '3',\n",
       "  'type': 'Feature',\n",
       "  'properties': {'address': 'Itäväylä, 00900 Helsinki, Finland', 'id': 1004},\n",
       "  'geometry': {'type': 'Point',\n",
       "   'coordinates': [25.0919641, 60.21448089999999]},\n",
       "  'bbox': [25.0919641, 60.21448089999999, 25.0919641, 60.21448089999999]},\n",
       " {'id': '4',\n",
       "  'type': 'Feature',\n",
       "  'properties': {'address': 'Tyynenmerenkatu 9, 00220 Helsinki, Finland',\n",
       "   'id': 1005},\n",
       "  'geometry': {'type': 'Point', 'coordinates': [24.9214846, 60.1565781]},\n",
       "  'bbox': [24.9214846, 60.1565781, 24.9214846, 60.1565781]},\n",
       " {'id': '5',\n",
       "  'type': 'Feature',\n",
       "  'properties': {'address': 'Kontulantie 18, 00940 Helsinki, Finland',\n",
       "   'id': 1006},\n",
       "  'geometry': {'type': 'Point',\n",
       "   'coordinates': [25.0816923, 60.23489060000001]},\n",
       "  'bbox': [25.0816923, 60.23489060000001, 25.0816923, 60.23489060000001]},\n",
       " {'id': '6',\n",
       "  'type': 'Feature',\n",
       "  'properties': {'address': 'Itäväylä, 00800 Helsinki, Finland', 'id': 1007},\n",
       "  'geometry': {'type': 'Point', 'coordinates': [25.042239, 60.2033879]},\n",
       "  'bbox': [25.042239, 60.2033879, 25.042239, 60.2033879]},\n",
       " {'id': '7',\n",
       "  'type': 'Feature',\n",
       "  'properties': {'address': 'Tapulikaupungintie 3, 00750 Helsinki, Finland',\n",
       "   'id': 1008},\n",
       "  'geometry': {'type': 'Point', 'coordinates': [25.035855, 60.2753891]},\n",
       "  'bbox': [25.035855, 60.2753891, 25.035855, 60.2753891]},\n",
       " {'id': '8',\n",
       "  'type': 'Feature',\n",
       "  'properties': {'address': 'Sompionpolku 2, 00730 Helsinki, Finland',\n",
       "   'id': 1009},\n",
       "  'geometry': {'type': 'Point', 'coordinates': [25.0291078, 60.2633799]},\n",
       "  'bbox': [25.0291078, 60.2633799, 25.0291078, 60.2633799]},\n",
       " {'id': '9',\n",
       "  'type': 'Feature',\n",
       "  'properties': {'address': 'Atomitie 5, 00370 Helsinki, Finland', 'id': 1010},\n",
       "  'geometry': {'type': 'Point',\n",
       "   'coordinates': [24.8718598, 60.22243630000001]},\n",
       "  'bbox': [24.8718598, 60.22243630000001, 24.8718598, 60.22243630000001]},\n",
       " {'id': '10',\n",
       "  'type': 'Feature',\n",
       "  'properties': {'address': 'Rautatientori 1, 00100 Helsinki, Finland',\n",
       "   'id': 1011},\n",
       "  'geometry': {'type': 'Point', 'coordinates': [24.94251, 60.1711874]},\n",
       "  'bbox': [24.94251, 60.1711874, 24.94251, 60.1711874]},\n",
       " {'id': '11',\n",
       "  'type': 'Feature',\n",
       "  'properties': {'address': 'Kuparitie 8, 00440 Helsinki, Finland',\n",
       "   'id': 1012},\n",
       "  'geometry': {'type': 'Point', 'coordinates': [24.8840504, 60.2306474]},\n",
       "  'bbox': [24.8840504, 60.2306474, 24.8840504, 60.2306474]},\n",
       " {'id': '12',\n",
       "  'type': 'Feature',\n",
       "  'properties': {'address': 'Trumstigen 8, 00420 Helsingfors, Finland',\n",
       "   'id': 1013},\n",
       "  'geometry': {'type': 'Point', 'coordinates': [24.877383, 60.240163]},\n",
       "  'bbox': [24.877383, 60.240163, 24.877383, 60.240163]},\n",
       " {'id': '13',\n",
       "  'type': 'Feature',\n",
       "  'properties': {'address': 'Kullatorpsvägen 1, 00620 Helsingfors, Finland',\n",
       "   'id': 1014},\n",
       "  'geometry': {'type': 'Point',\n",
       "   'coordinates': [24.9483202, 60.22163339999999]},\n",
       "  'bbox': [24.9483202, 60.22163339999999, 24.9483202, 60.22163339999999]},\n",
       " {'id': '14',\n",
       "  'type': 'Feature',\n",
       "  'properties': {'address': 'Malminkaari 15, 00700 Helsinki, Finland',\n",
       "   'id': 1015},\n",
       "  'geometry': {'type': 'Point',\n",
       "   'coordinates': [25.0125655, 60.25149829999999]},\n",
       "  'bbox': [25.0125655, 60.25149829999999, 25.0125655, 60.25149829999999]},\n",
       " {'id': '15',\n",
       "  'type': 'Feature',\n",
       "  'properties': {'address': 'Kylätie 23, 00320 Helsinki, Finland', 'id': 1016},\n",
       "  'geometry': {'type': 'Point', 'coordinates': [24.893153, 60.2177823]},\n",
       "  'bbox': [24.893153, 60.2177823, 24.893153, 60.2177823]},\n",
       " {'id': '16',\n",
       "  'type': 'Feature',\n",
       "  'properties': {'address': 'Malminkartanontie 17, 00410 Helsinki, Finland',\n",
       "   'id': 1017},\n",
       "  'geometry': {'type': 'Point', 'coordinates': [24.86186, 60.2485471]},\n",
       "  'bbox': [24.86186, 60.2485471, 24.86186, 60.2485471]},\n",
       " {'id': '17',\n",
       "  'type': 'Feature',\n",
       "  'properties': {'address': 'Åggelby torg 2b, 00640 Helsingfors, Finland',\n",
       "   'id': 1018},\n",
       "  'geometry': {'type': 'Point', 'coordinates': [24.9670533, 60.2291135]},\n",
       "  'bbox': [24.9670533, 60.2291135, 24.9670533, 60.2291135]},\n",
       " {'id': '18',\n",
       "  'type': 'Feature',\n",
       "  'properties': {'address': 'Bangårdsvägen 6, 00101 Helsingfors, Finland',\n",
       "   'id': 1019},\n",
       "  'geometry': {'type': 'Point', 'coordinates': [24.9334051, 60.1986856]},\n",
       "  'bbox': [24.9334051, 60.1986856, 24.9334051, 60.1986856]},\n",
       " {'id': '19',\n",
       "  'type': 'Feature',\n",
       "  'properties': {'address': 'Pitäjänmäentie 15, 00370 Helsinki, Finland',\n",
       "   'id': 1020},\n",
       "  'geometry': {'type': 'Point',\n",
       "   'coordinates': [24.8609335, 60.22401389999999]},\n",
       "  'bbox': [24.8609335, 60.22401389999999, 24.8609335, 60.22401389999999]},\n",
       " {'id': '20',\n",
       "  'type': 'Feature',\n",
       "  'properties': {'address': 'Eskolantie 2, 00720 Helsinki, Finland',\n",
       "   'id': 1021},\n",
       "  'geometry': {'type': 'Point', 'coordinates': [24.9934979, 60.2436961]},\n",
       "  'bbox': [24.9934979, 60.2436961, 24.9934979, 60.2436961]},\n",
       " {'id': '21',\n",
       "  'type': 'Feature',\n",
       "  'properties': {'address': 'Tattariharjuntie, 00700 Helsinki, Finland',\n",
       "   'id': 1022},\n",
       "  'geometry': {'type': 'Point', 'coordinates': [25.040583, 60.24444239999999]},\n",
       "  'bbox': [25.040583, 60.24444239999999, 25.040583, 60.24444239999999]},\n",
       " {'id': '22',\n",
       "  'type': 'Feature',\n",
       "  'properties': {'address': 'Tallinnanaukio 1, 00930 Helsinki, Finland',\n",
       "   'id': 1023},\n",
       "  'geometry': {'type': 'Point',\n",
       "   'coordinates': [25.0778094, 60.20966609999999]},\n",
       "  'bbox': [25.0778094, 60.20966609999999, 25.0778094, 60.20966609999999]},\n",
       " {'id': '23',\n",
       "  'type': 'Feature',\n",
       "  'properties': {'address': 'Tyynylaavantie 7, 00980 Helsinki, Finland',\n",
       "   'id': 1024},\n",
       "  'geometry': {'type': 'Point',\n",
       "   'coordinates': [25.1424936, 60.20751019999999]},\n",
       "  'bbox': [25.1424936, 60.20751019999999, 25.1424936, 60.20751019999999]},\n",
       " {'id': '24',\n",
       "  'type': 'Feature',\n",
       "  'properties': {'address': 'Varvasmäenkuja, 00920 Helsinki, Finland',\n",
       "   'id': 1025},\n",
       "  'geometry': {'type': 'Point', 'coordinates': [25.0756547, 60.225599]},\n",
       "  'bbox': [25.0756547, 60.225599, 25.0756547, 60.225599]},\n",
       " {'id': '25',\n",
       "  'type': 'Feature',\n",
       "  'properties': {'address': 'Mellungsbackastråket 6, 00970 Helsingfors, Finland',\n",
       "   'id': 1026},\n",
       "  'geometry': {'type': 'Point', 'coordinates': [25.1080054, 60.2382054]},\n",
       "  'bbox': [25.1080054, 60.2382054, 25.1080054, 60.2382054]},\n",
       " {'id': '26',\n",
       "  'type': 'Feature',\n",
       "  'properties': {'address': 'Vasastigen 2, 00101 Helsingfors, Finland',\n",
       "   'id': 1027},\n",
       "  'geometry': {'type': 'Point',\n",
       "   'coordinates': [24.9609122, 60.18789030000001]},\n",
       "  'bbox': [24.9609122, 60.18789030000001, 24.9609122, 60.18789030000001]},\n",
       " {'id': '27',\n",
       "  'type': 'Feature',\n",
       "  'properties': {'address': 'Hiihtäjäntie 2, 00810 Helsinki, Finland',\n",
       "   'id': 1028},\n",
       "  'geometry': {'type': 'Point',\n",
       "   'coordinates': [25.0291263, 60.19413939999999]},\n",
       "  'bbox': [25.0291263, 60.19413939999999, 25.0291263, 60.19413939999999]},\n",
       " {'id': '28',\n",
       "  'type': 'Feature',\n",
       "  'properties': {'address': 'Ukko-Pekan porras, 00570 Helsinki, Finland',\n",
       "   'id': 1029},\n",
       "  'geometry': {'type': 'Point',\n",
       "   'coordinates': [25.0068399, 60.18837519999999]},\n",
       "  'bbox': [25.0068399, 60.18837519999999, 25.0068399, 60.18837519999999]},\n",
       " {'id': '29',\n",
       "  'type': 'Feature',\n",
       "  'properties': {'address': 'Siltasaarenkatu 16, 00530 Helsinki, Finland',\n",
       "   'id': 1030},\n",
       "  'geometry': {'type': 'Point', 'coordinates': [24.9494874, 60.1793862]},\n",
       "  'bbox': [24.9494874, 60.1793862, 24.9494874, 60.1793862]},\n",
       " {'id': '30',\n",
       "  'type': 'Feature',\n",
       "  'properties': {'address': 'Urho Kekkosen katu 1, 00100 Helsinki, Finland',\n",
       "   'id': 1031},\n",
       "  'geometry': {'type': 'Point', 'coordinates': [24.9337569, 60.1694809]},\n",
       "  'bbox': [24.9337569, 60.1694809, 24.9337569, 60.1694809]},\n",
       " {'id': '31',\n",
       "  'type': 'Feature',\n",
       "  'properties': {'address': 'Gräsviksgatan 17, 00101 Helsingfors, Finland',\n",
       "   'id': 1032},\n",
       "  'geometry': {'type': 'Point',\n",
       "   'coordinates': [24.9250072, 60.16500139999999]},\n",
       "  'bbox': [24.9250072, 60.16500139999999, 24.9250072, 60.16500139999999]},\n",
       " {'id': '32',\n",
       "  'type': 'Feature',\n",
       "  'properties': {'address': 'Stillahavsgatan 3, 00220 Helsingfors, Finland',\n",
       "   'id': 1033},\n",
       "  'geometry': {'type': 'Point', 'coordinates': [24.9214046, 60.159069]},\n",
       "  'bbox': [24.9214046, 60.159069, 24.9214046, 60.159069]},\n",
       " {'id': '33',\n",
       "  'type': 'Feature',\n",
       "  'properties': {'address': 'Vilhelmsgatan 4, 00101 Helsingfors, Finland',\n",
       "   'id': 1034},\n",
       "  'geometry': {'type': 'Point', 'coordinates': [24.9468514, 60.1719108]},\n",
       "  'bbox': [24.9468514, 60.1719108, 24.9468514, 60.1719108]},\n",
       " {'id': '34',\n",
       "  'type': 'Feature',\n",
       "  'properties': {'address': 'Torisilta, 00980 Helsinki, Finland', 'id': 1035},\n",
       "  'geometry': {'type': 'Point',\n",
       "   'coordinates': [25.1204966, 60.20548979999999]},\n",
       "  'bbox': [25.1204966, 60.20548979999999, 25.1204966, 60.20548979999999]}]"
      ]
     },
     "execution_count": 10,
     "metadata": {},
     "output_type": "execute_result"
    }
   ],
   "source": [
    "# Check the GeoJSON features\n",
    "points_gjson.data.get('features')"
   ]
  },
  {
   "cell_type": "markdown",
   "metadata": {
    "deletable": true,
    "editable": true
   },
   "source": [
    "Now we have our population data stored as GeoJSON format which basically contains the\n",
    "data as text in a similar way that it would be written in the ``.geojson`` -file."
   ]
  },
  {
   "cell_type": "markdown",
   "metadata": {
    "deletable": true,
    "editable": true
   },
   "source": [
    "Add the points onto the Helsinki basemap:"
   ]
  },
  {
   "cell_type": "code",
   "execution_count": 53,
   "metadata": {
    "collapsed": false,
    "deletable": true,
    "editable": true,
    "jupyter": {
     "outputs_hidden": false
    }
   },
   "outputs": [
    {
     "data": {
      "text/html": [
       "<div style=\"width:100%;\"><div style=\"position:relative;width:100%;height:0;padding-bottom:60%;\"><span style=\"color:#565656\">Make this Notebook Trusted to load map: File -> Trust Notebook</span><iframe src=\"about:blank\" style=\"position:absolute;width:100%;height:100%;left:0;top:0;border:none !important;\" data-html=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 onload=\"this.contentDocument.open();this.contentDocument.write(atob(this.getAttribute('data-html')));this.contentDocument.close();\" allowfullscreen webkitallowfullscreen mozallowfullscreen></iframe></div></div>"
      ],
      "text/plain": [
       "<folium.folium.Map at 0x7fc3f4664460>"
      ]
     },
     "execution_count": 53,
     "metadata": {},
     "output_type": "execute_result"
    }
   ],
   "source": [
    "# Create a Map instance\n",
    "m = folium.Map(location=[60.25,24.8],\n",
    "             zoom_start=10,\n",
    "             tiles='cartodbpositron')\n",
    "# Add points to the map instance\n",
    "points_gjson.add_to(m)\n",
    "\n",
    "# Alternative syntax for adding points to the map instance\n",
    "m.add_child(points_gjson)\n",
    "\n",
    "#Show map\n",
    "m"
   ]
  },
  {
   "cell_type": "markdown",
   "metadata": {},
   "source": [
    "### Layer control\n",
    "\n",
    "We can also add a `LayerControl` object on our map, which allows the user to control which map layers are visible. See the [documentation](http://python-visualization.github.io/folium/docs-v0.5.0/modules.html#folium.map.LayerControl) for available parameters (you can e.g. change the position of the layer control icon)."
   ]
  },
  {
   "cell_type": "code",
   "execution_count": 54,
   "metadata": {},
   "outputs": [
    {
     "data": {
      "text/html": [
       "<div style=\"width:100%;\"><div style=\"position:relative;width:100%;height:0;padding-bottom:60%;\"><span style=\"color:#565656\">Make this Notebook Trusted to load map: File -> Trust Notebook</span><iframe src=\"about:blank\" style=\"position:absolute;width:100%;height:100%;left:0;top:0;border:none !important;\" data-html=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 onload=\"this.contentDocument.open();this.contentDocument.write(atob(this.getAttribute('data-html')));this.contentDocument.close();\" allowfullscreen webkitallowfullscreen mozallowfullscreen></iframe></div></div>"
      ],
      "text/plain": [
       "<folium.folium.Map at 0x7fc3f4664460>"
      ]
     },
     "execution_count": 54,
     "metadata": {},
     "output_type": "execute_result"
    }
   ],
   "source": [
    "# Create a layer control object and add it to our map instance\n",
    "folium.LayerControl().add_to(m)\n",
    "#Show map\n",
    "m"
   ]
  },
  {
   "cell_type": "markdown",
   "metadata": {
    "deletable": true,
    "editable": true
   },
   "source": [
    "### Heatmap\n",
    "\n",
    "[Folium plugins](https://python-visualization.github.io/folium/plugins.html) allow us to use popular tools available in leaflet. One of these plugins is [HeatMap](https://python-visualization.github.io/folium/plugins.html#folium.plugins.HeatMap), which creates a heatmap layer from input points. \n",
    "\n",
    "Let's visualize a heatmap of the public transport stations in Helsinki using the addresses input data. [folium.plugins.HeatMap](https://python-visualization.github.io/folium/plugins.html#folium.plugins.HeatMap) requires a list of points, or a numpy array as input, so we need to first manipulate the data a bit:"
   ]
  },
  {
   "cell_type": "code",
   "execution_count": null,
   "metadata": {},
   "outputs": [],
   "source": []
  },
  {
   "cell_type": "code",
   "execution_count": 55,
   "metadata": {
    "deletable": true,
    "editable": true
   },
   "outputs": [],
   "source": [
    "# Get x and y coordinates for each point\n",
    "points['x'] = points['geometry'].x\n",
    "points['y'] = points['geometry'].y\n",
    "\n",
    "# Create a list of coordinate pairs\n",
    "locations = list(zip(points['y'],points['x']))"
   ]
  },
  {
   "cell_type": "markdown",
   "metadata": {},
   "source": [
    "Check the data:"
   ]
  },
  {
   "cell_type": "code",
   "execution_count": 56,
   "metadata": {
    "collapsed": false,
    "deletable": true,
    "editable": true,
    "jupyter": {
     "outputs_hidden": false
    }
   },
   "outputs": [
    {
     "data": {
      "text/plain": [
       "[(60.1683731, 24.9301701),\n",
       " (60.1698665, 24.9418933),\n",
       " (60.18735880000001, 24.9774004),\n",
       " (60.21448089999999, 25.0919641),\n",
       " (60.1565781, 24.9214846),\n",
       " (60.23489060000001, 25.0816923),\n",
       " (60.2033879, 25.042239),\n",
       " (60.2753891, 25.035855),\n",
       " (60.2633799, 25.0291078),\n",
       " (60.22243630000001, 24.8718598),\n",
       " (60.1711874, 24.94251),\n",
       " (60.2306474, 24.8840504),\n",
       " (60.240163, 24.877383),\n",
       " (60.22163339999999, 24.9483202),\n",
       " (60.25149829999999, 25.0125655),\n",
       " (60.2177823, 24.893153),\n",
       " (60.2485471, 24.86186),\n",
       " (60.2291135, 24.9670533),\n",
       " (60.1986856, 24.9334051),\n",
       " (60.22401389999999, 24.8609335),\n",
       " (60.2436961, 24.9934979),\n",
       " (60.24444239999999, 25.040583),\n",
       " (60.20966609999999, 25.0778094),\n",
       " (60.20751019999999, 25.1424936),\n",
       " (60.225599, 25.0756547),\n",
       " (60.2382054, 25.1080054),\n",
       " (60.18789030000001, 24.9609122),\n",
       " (60.19413939999999, 25.0291263),\n",
       " (60.18837519999999, 25.0068399),\n",
       " (60.1793862, 24.9494874),\n",
       " (60.1694809, 24.9337569),\n",
       " (60.16500139999999, 24.9250072),\n",
       " (60.159069, 24.9214046),\n",
       " (60.1719108, 24.9468514),\n",
       " (60.20548979999999, 25.1204966)]"
      ]
     },
     "execution_count": 56,
     "metadata": {},
     "output_type": "execute_result"
    }
   ],
   "source": [
    "locations"
   ]
  },
  {
   "cell_type": "code",
   "execution_count": 57,
   "metadata": {
    "collapsed": false,
    "deletable": true,
    "editable": true,
    "jupyter": {
     "outputs_hidden": false
    }
   },
   "outputs": [
    {
     "data": {
      "text/html": [
       "<div style=\"width:100%;\"><div style=\"position:relative;width:100%;height:0;padding-bottom:60%;\"><span style=\"color:#565656\">Make this Notebook Trusted to load map: File -> Trust Notebook</span><iframe src=\"about:blank\" style=\"position:absolute;width:100%;height:100%;left:0;top:0;border:none !important;\" data-html=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 onload=\"this.contentDocument.open();this.contentDocument.write(atob(this.getAttribute('data-html')));this.contentDocument.close();\" allowfullscreen webkitallowfullscreen mozallowfullscreen></iframe></div></div>"
      ],
      "text/plain": [
       "<folium.folium.Map at 0x7fc3f44e7f70>"
      ]
     },
     "execution_count": 57,
     "metadata": {},
     "output_type": "execute_result"
    }
   ],
   "source": [
    "from folium.plugins import HeatMap\n",
    "\n",
    "# Create a Map instance\n",
    "m = folium.Map(location=[60.25,24.8],\n",
    "               zoom_start=10,\n",
    "              tiles='cartodbpositron')\n",
    "# Add heatmap to map instance\n",
    "# Available parameters: HeatMap(data, name=None, min_opacity=0.5, max_zoom=18, max_val=1.0, radius=25, blur=15, gradient=None, overlay=True, control=True, show=True)\n",
    "HeatMap(locations).add_to(m)\n",
    "\n",
    "# Show map\n",
    "m"
   ]
  },
  {
   "cell_type": "markdown",
   "metadata": {
    "editable": true
   },
   "source": [
    "### Clustered point map\n",
    "\n",
    "Let's visualize the address points (locations of transport stations in Helsinki) on top of the choropleth map using clustered markers using folium's [MarkerCluster](https://python-visualization.github.io/folium/plugins.html?highlight=marker%20cluster#folium.plugins.MarkerCluster) class."
   ]
  },
  {
   "cell_type": "code",
   "execution_count": 58,
   "metadata": {
    "editable": true
   },
   "outputs": [],
   "source": [
    "from folium.plugins import MarkerCluster"
   ]
  },
  {
   "cell_type": "code",
   "execution_count": 59,
   "metadata": {},
   "outputs": [],
   "source": [
    "# Create a Map instance\n",
    "m = folium.Map(location=[60.25,24.8],\n",
    "               zoom_start=10)"
   ]
  },
  {
   "cell_type": "code",
   "execution_count": 60,
   "metadata": {},
   "outputs": [],
   "source": [
    "# Get x and y coordinates for each point\n",
    "points['x'] = points['geometry'].x\n",
    "points['y'] = points['geometry'].y\n",
    "\n",
    "# Create a list of coordinate pairs\n",
    "locations = list(zip(points['y'],points['x']))"
   ]
  },
  {
   "cell_type": "code",
   "execution_count": 61,
   "metadata": {},
   "outputs": [
    {
     "data": {
      "text/html": [
       "<div style=\"width:100%;\"><div style=\"position:relative;width:100%;height:0;padding-bottom:60%;\"><span style=\"color:#565656\">Make this Notebook Trusted to load map: File -> Trust Notebook</span><iframe src=\"about:blank\" style=\"position:absolute;width:100%;height:100%;left:0;top:0;border:none !important;\" data-html=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 onload=\"this.contentDocument.open();this.contentDocument.write(atob(this.getAttribute('data-html')));this.contentDocument.close();\" allowfullscreen webkitallowfullscreen mozallowfullscreen></iframe></div></div>"
      ],
      "text/plain": [
       "<folium.folium.Map at 0x7fc3f44ff970>"
      ]
     },
     "execution_count": 61,
     "metadata": {},
     "output_type": "execute_result"
    }
   ],
   "source": [
    "# Create a folium marker cluster\n",
    "marker_cluster = MarkerCluster(locations)\n",
    "# Add marker cluster to map\n",
    "marker_cluster.add_to(m)\n",
    "# Show map\n",
    "m"
   ]
  },
  {
   "cell_type": "markdown",
   "metadata": {
    "deletable": true,
    "editable": true
   },
   "source": [
    "### Choropleth map"
   ]
  },
  {
   "cell_type": "markdown",
   "metadata": {
    "deletable": true,
    "editable": true
   },
   "source": [
    "Next, let's check how we can overlay a population map on top of a basemap using [folium's choropleth method](http://python-visualization.github.io/folium/docs-v0.5.0/modules.html#folium.folium.Map.choropleth). This method is able to read the geometries and attributes directly from a geodataframe. \n",
    "This example is modified from the [Folium quicksart](https://python-visualization.github.io/folium/quickstart.html#Choropleth-maps).\n",
    "\n",
    "- First read in the population grid from HSY wfs like we did in [lesson 3](https://automating-gis-processes.github.io/site/notebooks/L3/spatial-join.html):"
   ]
  },
  {
   "cell_type": "code",
   "execution_count": 42,
   "metadata": {
    "collapsed": false,
    "deletable": true,
    "editable": true,
    "jupyter": {
     "outputs_hidden": false
    }
   },
   "outputs": [
    {
     "ename": "SSLError",
     "evalue": "HTTPSConnectionPool(host='kartta.hsy.fi', port=443): Max retries exceeded with url: /geoserver/wfs?service=WFS&version=2.0.0&request=GetFeature&typeName=asuminen_ja_maankaytto%3AVaestotietoruudukko_2020&outputFormat=json (Caused by SSLError(SSLCertVerificationError(1, '[SSL: CERTIFICATE_VERIFY_FAILED] certificate verify failed: unable to get local issuer certificate (_ssl.c:1124)')))",
     "output_type": "error",
     "traceback": [
      "\u001b[0;31m---------------------------------------------------------------------------\u001b[0m",
      "\u001b[0;31mSSLCertVerificationError\u001b[0m                  Traceback (most recent call last)",
      "\u001b[0;32m/opt/conda/lib/python3.8/site-packages/urllib3/connectionpool.py\u001b[0m in \u001b[0;36murlopen\u001b[0;34m(self, method, url, body, headers, retries, redirect, assert_same_host, timeout, pool_timeout, release_conn, chunked, body_pos, **response_kw)\u001b[0m\n\u001b[1;32m    669\u001b[0m             \u001b[0;31m# Make the request on the httplib connection object.\u001b[0m\u001b[0;34m\u001b[0m\u001b[0;34m\u001b[0m\u001b[0;34m\u001b[0m\u001b[0m\n\u001b[0;32m--> 670\u001b[0;31m             httplib_response = self._make_request(\n\u001b[0m\u001b[1;32m    671\u001b[0m                 \u001b[0mconn\u001b[0m\u001b[0;34m,\u001b[0m\u001b[0;34m\u001b[0m\u001b[0;34m\u001b[0m\u001b[0m\n",
      "\u001b[0;32m/opt/conda/lib/python3.8/site-packages/urllib3/connectionpool.py\u001b[0m in \u001b[0;36m_make_request\u001b[0;34m(self, conn, method, url, timeout, chunked, **httplib_request_kw)\u001b[0m\n\u001b[1;32m    380\u001b[0m         \u001b[0;32mtry\u001b[0m\u001b[0;34m:\u001b[0m\u001b[0;34m\u001b[0m\u001b[0;34m\u001b[0m\u001b[0m\n\u001b[0;32m--> 381\u001b[0;31m             \u001b[0mself\u001b[0m\u001b[0;34m.\u001b[0m\u001b[0m_validate_conn\u001b[0m\u001b[0;34m(\u001b[0m\u001b[0mconn\u001b[0m\u001b[0;34m)\u001b[0m\u001b[0;34m\u001b[0m\u001b[0;34m\u001b[0m\u001b[0m\n\u001b[0m\u001b[1;32m    382\u001b[0m         \u001b[0;32mexcept\u001b[0m \u001b[0;34m(\u001b[0m\u001b[0mSocketTimeout\u001b[0m\u001b[0;34m,\u001b[0m \u001b[0mBaseSSLError\u001b[0m\u001b[0;34m)\u001b[0m \u001b[0;32mas\u001b[0m \u001b[0me\u001b[0m\u001b[0;34m:\u001b[0m\u001b[0;34m\u001b[0m\u001b[0;34m\u001b[0m\u001b[0m\n",
      "\u001b[0;32m/opt/conda/lib/python3.8/site-packages/urllib3/connectionpool.py\u001b[0m in \u001b[0;36m_validate_conn\u001b[0;34m(self, conn)\u001b[0m\n\u001b[1;32m    977\u001b[0m         \u001b[0;32mif\u001b[0m \u001b[0;32mnot\u001b[0m \u001b[0mgetattr\u001b[0m\u001b[0;34m(\u001b[0m\u001b[0mconn\u001b[0m\u001b[0;34m,\u001b[0m \u001b[0;34m\"sock\"\u001b[0m\u001b[0;34m,\u001b[0m \u001b[0;32mNone\u001b[0m\u001b[0;34m)\u001b[0m\u001b[0;34m:\u001b[0m  \u001b[0;31m# AppEngine might not have  `.sock`\u001b[0m\u001b[0;34m\u001b[0m\u001b[0;34m\u001b[0m\u001b[0m\n\u001b[0;32m--> 978\u001b[0;31m             \u001b[0mconn\u001b[0m\u001b[0;34m.\u001b[0m\u001b[0mconnect\u001b[0m\u001b[0;34m(\u001b[0m\u001b[0;34m)\u001b[0m\u001b[0;34m\u001b[0m\u001b[0;34m\u001b[0m\u001b[0m\n\u001b[0m\u001b[1;32m    979\u001b[0m \u001b[0;34m\u001b[0m\u001b[0m\n",
      "\u001b[0;32m/opt/conda/lib/python3.8/site-packages/urllib3/connection.py\u001b[0m in \u001b[0;36mconnect\u001b[0;34m(self)\u001b[0m\n\u001b[1;32m    361\u001b[0m \u001b[0;34m\u001b[0m\u001b[0m\n\u001b[0;32m--> 362\u001b[0;31m         self.sock = ssl_wrap_socket(\n\u001b[0m\u001b[1;32m    363\u001b[0m             \u001b[0msock\u001b[0m\u001b[0;34m=\u001b[0m\u001b[0mconn\u001b[0m\u001b[0;34m,\u001b[0m\u001b[0;34m\u001b[0m\u001b[0;34m\u001b[0m\u001b[0m\n",
      "\u001b[0;32m/opt/conda/lib/python3.8/site-packages/urllib3/util/ssl_.py\u001b[0m in \u001b[0;36mssl_wrap_socket\u001b[0;34m(sock, keyfile, certfile, cert_reqs, ca_certs, server_hostname, ssl_version, ciphers, ssl_context, ca_cert_dir, key_password, ca_cert_data)\u001b[0m\n\u001b[1;32m    385\u001b[0m         \u001b[0;32mif\u001b[0m \u001b[0mHAS_SNI\u001b[0m \u001b[0;32mand\u001b[0m \u001b[0mserver_hostname\u001b[0m \u001b[0;32mis\u001b[0m \u001b[0;32mnot\u001b[0m \u001b[0;32mNone\u001b[0m\u001b[0;34m:\u001b[0m\u001b[0;34m\u001b[0m\u001b[0;34m\u001b[0m\u001b[0m\n\u001b[0;32m--> 386\u001b[0;31m             \u001b[0;32mreturn\u001b[0m \u001b[0mcontext\u001b[0m\u001b[0;34m.\u001b[0m\u001b[0mwrap_socket\u001b[0m\u001b[0;34m(\u001b[0m\u001b[0msock\u001b[0m\u001b[0;34m,\u001b[0m \u001b[0mserver_hostname\u001b[0m\u001b[0;34m=\u001b[0m\u001b[0mserver_hostname\u001b[0m\u001b[0;34m)\u001b[0m\u001b[0;34m\u001b[0m\u001b[0;34m\u001b[0m\u001b[0m\n\u001b[0m\u001b[1;32m    387\u001b[0m \u001b[0;34m\u001b[0m\u001b[0m\n",
      "\u001b[0;32m/opt/conda/lib/python3.8/ssl.py\u001b[0m in \u001b[0;36mwrap_socket\u001b[0;34m(self, sock, server_side, do_handshake_on_connect, suppress_ragged_eofs, server_hostname, session)\u001b[0m\n\u001b[1;32m    499\u001b[0m         \u001b[0;31m# ctx._wrap_socket()\u001b[0m\u001b[0;34m\u001b[0m\u001b[0;34m\u001b[0m\u001b[0;34m\u001b[0m\u001b[0m\n\u001b[0;32m--> 500\u001b[0;31m         return self.sslsocket_class._create(\n\u001b[0m\u001b[1;32m    501\u001b[0m             \u001b[0msock\u001b[0m\u001b[0;34m=\u001b[0m\u001b[0msock\u001b[0m\u001b[0;34m,\u001b[0m\u001b[0;34m\u001b[0m\u001b[0;34m\u001b[0m\u001b[0m\n",
      "\u001b[0;32m/opt/conda/lib/python3.8/ssl.py\u001b[0m in \u001b[0;36m_create\u001b[0;34m(cls, sock, server_side, do_handshake_on_connect, suppress_ragged_eofs, server_hostname, context, session)\u001b[0m\n\u001b[1;32m   1039\u001b[0m                         \u001b[0;32mraise\u001b[0m \u001b[0mValueError\u001b[0m\u001b[0;34m(\u001b[0m\u001b[0;34m\"do_handshake_on_connect should not be specified for non-blocking sockets\"\u001b[0m\u001b[0;34m)\u001b[0m\u001b[0;34m\u001b[0m\u001b[0;34m\u001b[0m\u001b[0m\n\u001b[0;32m-> 1040\u001b[0;31m                     \u001b[0mself\u001b[0m\u001b[0;34m.\u001b[0m\u001b[0mdo_handshake\u001b[0m\u001b[0;34m(\u001b[0m\u001b[0;34m)\u001b[0m\u001b[0;34m\u001b[0m\u001b[0;34m\u001b[0m\u001b[0m\n\u001b[0m\u001b[1;32m   1041\u001b[0m             \u001b[0;32mexcept\u001b[0m \u001b[0;34m(\u001b[0m\u001b[0mOSError\u001b[0m\u001b[0;34m,\u001b[0m \u001b[0mValueError\u001b[0m\u001b[0;34m)\u001b[0m\u001b[0;34m:\u001b[0m\u001b[0;34m\u001b[0m\u001b[0;34m\u001b[0m\u001b[0m\n",
      "\u001b[0;32m/opt/conda/lib/python3.8/ssl.py\u001b[0m in \u001b[0;36mdo_handshake\u001b[0;34m(self, block)\u001b[0m\n\u001b[1;32m   1308\u001b[0m                 \u001b[0mself\u001b[0m\u001b[0;34m.\u001b[0m\u001b[0msettimeout\u001b[0m\u001b[0;34m(\u001b[0m\u001b[0;32mNone\u001b[0m\u001b[0;34m)\u001b[0m\u001b[0;34m\u001b[0m\u001b[0;34m\u001b[0m\u001b[0m\n\u001b[0;32m-> 1309\u001b[0;31m             \u001b[0mself\u001b[0m\u001b[0;34m.\u001b[0m\u001b[0m_sslobj\u001b[0m\u001b[0;34m.\u001b[0m\u001b[0mdo_handshake\u001b[0m\u001b[0;34m(\u001b[0m\u001b[0;34m)\u001b[0m\u001b[0;34m\u001b[0m\u001b[0;34m\u001b[0m\u001b[0m\n\u001b[0m\u001b[1;32m   1310\u001b[0m         \u001b[0;32mfinally\u001b[0m\u001b[0;34m:\u001b[0m\u001b[0;34m\u001b[0m\u001b[0;34m\u001b[0m\u001b[0m\n",
      "\u001b[0;31mSSLCertVerificationError\u001b[0m: [SSL: CERTIFICATE_VERIFY_FAILED] certificate verify failed: unable to get local issuer certificate (_ssl.c:1124)",
      "\nDuring handling of the above exception, another exception occurred:\n",
      "\u001b[0;31mMaxRetryError\u001b[0m                             Traceback (most recent call last)",
      "\u001b[0;32m/opt/conda/lib/python3.8/site-packages/requests/adapters.py\u001b[0m in \u001b[0;36msend\u001b[0;34m(self, request, stream, timeout, verify, cert, proxies)\u001b[0m\n\u001b[1;32m    438\u001b[0m             \u001b[0;32mif\u001b[0m \u001b[0;32mnot\u001b[0m \u001b[0mchunked\u001b[0m\u001b[0;34m:\u001b[0m\u001b[0;34m\u001b[0m\u001b[0;34m\u001b[0m\u001b[0m\n\u001b[0;32m--> 439\u001b[0;31m                 resp = conn.urlopen(\n\u001b[0m\u001b[1;32m    440\u001b[0m                     \u001b[0mmethod\u001b[0m\u001b[0;34m=\u001b[0m\u001b[0mrequest\u001b[0m\u001b[0;34m.\u001b[0m\u001b[0mmethod\u001b[0m\u001b[0;34m,\u001b[0m\u001b[0;34m\u001b[0m\u001b[0;34m\u001b[0m\u001b[0m\n",
      "\u001b[0;32m/opt/conda/lib/python3.8/site-packages/urllib3/connectionpool.py\u001b[0m in \u001b[0;36murlopen\u001b[0;34m(self, method, url, body, headers, retries, redirect, assert_same_host, timeout, pool_timeout, release_conn, chunked, body_pos, **response_kw)\u001b[0m\n\u001b[1;32m    725\u001b[0m \u001b[0;34m\u001b[0m\u001b[0m\n\u001b[0;32m--> 726\u001b[0;31m             retries = retries.increment(\n\u001b[0m\u001b[1;32m    727\u001b[0m                 \u001b[0mmethod\u001b[0m\u001b[0;34m,\u001b[0m \u001b[0murl\u001b[0m\u001b[0;34m,\u001b[0m \u001b[0merror\u001b[0m\u001b[0;34m=\u001b[0m\u001b[0me\u001b[0m\u001b[0;34m,\u001b[0m \u001b[0m_pool\u001b[0m\u001b[0;34m=\u001b[0m\u001b[0mself\u001b[0m\u001b[0;34m,\u001b[0m \u001b[0m_stacktrace\u001b[0m\u001b[0;34m=\u001b[0m\u001b[0msys\u001b[0m\u001b[0;34m.\u001b[0m\u001b[0mexc_info\u001b[0m\u001b[0;34m(\u001b[0m\u001b[0;34m)\u001b[0m\u001b[0;34m[\u001b[0m\u001b[0;36m2\u001b[0m\u001b[0;34m]\u001b[0m\u001b[0;34m\u001b[0m\u001b[0;34m\u001b[0m\u001b[0m\n",
      "\u001b[0;32m/opt/conda/lib/python3.8/site-packages/urllib3/util/retry.py\u001b[0m in \u001b[0;36mincrement\u001b[0;34m(self, method, url, response, error, _pool, _stacktrace)\u001b[0m\n\u001b[1;32m    445\u001b[0m         \u001b[0;32mif\u001b[0m \u001b[0mnew_retry\u001b[0m\u001b[0;34m.\u001b[0m\u001b[0mis_exhausted\u001b[0m\u001b[0;34m(\u001b[0m\u001b[0;34m)\u001b[0m\u001b[0;34m:\u001b[0m\u001b[0;34m\u001b[0m\u001b[0;34m\u001b[0m\u001b[0m\n\u001b[0;32m--> 446\u001b[0;31m             \u001b[0;32mraise\u001b[0m \u001b[0mMaxRetryError\u001b[0m\u001b[0;34m(\u001b[0m\u001b[0m_pool\u001b[0m\u001b[0;34m,\u001b[0m \u001b[0murl\u001b[0m\u001b[0;34m,\u001b[0m \u001b[0merror\u001b[0m \u001b[0;32mor\u001b[0m \u001b[0mResponseError\u001b[0m\u001b[0;34m(\u001b[0m\u001b[0mcause\u001b[0m\u001b[0;34m)\u001b[0m\u001b[0;34m)\u001b[0m\u001b[0;34m\u001b[0m\u001b[0;34m\u001b[0m\u001b[0m\n\u001b[0m\u001b[1;32m    447\u001b[0m \u001b[0;34m\u001b[0m\u001b[0m\n",
      "\u001b[0;31mMaxRetryError\u001b[0m: HTTPSConnectionPool(host='kartta.hsy.fi', port=443): Max retries exceeded with url: /geoserver/wfs?service=WFS&version=2.0.0&request=GetFeature&typeName=asuminen_ja_maankaytto%3AVaestotietoruudukko_2020&outputFormat=json (Caused by SSLError(SSLCertVerificationError(1, '[SSL: CERTIFICATE_VERIFY_FAILED] certificate verify failed: unable to get local issuer certificate (_ssl.c:1124)')))",
      "\nDuring handling of the above exception, another exception occurred:\n",
      "\u001b[0;31mSSLError\u001b[0m                                  Traceback (most recent call last)",
      "\u001b[0;32m<ipython-input-42-7cd08956e038>\u001b[0m in \u001b[0;36m<module>\u001b[0;34m\u001b[0m\n\u001b[1;32m     16\u001b[0m \u001b[0;34m\u001b[0m\u001b[0m\n\u001b[1;32m     17\u001b[0m \u001b[0;31m# Fetch data from WFS using requests\u001b[0m\u001b[0;34m\u001b[0m\u001b[0;34m\u001b[0m\u001b[0;34m\u001b[0m\u001b[0m\n\u001b[0;32m---> 18\u001b[0;31m \u001b[0mr\u001b[0m \u001b[0;34m=\u001b[0m \u001b[0mrequests\u001b[0m\u001b[0;34m.\u001b[0m\u001b[0mget\u001b[0m\u001b[0;34m(\u001b[0m\u001b[0murl\u001b[0m\u001b[0;34m,\u001b[0m \u001b[0mparams\u001b[0m\u001b[0;34m=\u001b[0m\u001b[0mparams\u001b[0m\u001b[0;34m)\u001b[0m\u001b[0;34m\u001b[0m\u001b[0;34m\u001b[0m\u001b[0m\n\u001b[0m\u001b[1;32m     19\u001b[0m \u001b[0;34m\u001b[0m\u001b[0m\n\u001b[1;32m     20\u001b[0m \u001b[0;31m# Create GeoDataFrame from geojson\u001b[0m\u001b[0;34m\u001b[0m\u001b[0;34m\u001b[0m\u001b[0;34m\u001b[0m\u001b[0m\n",
      "\u001b[0;32m/opt/conda/lib/python3.8/site-packages/requests/api.py\u001b[0m in \u001b[0;36mget\u001b[0;34m(url, params, **kwargs)\u001b[0m\n\u001b[1;32m     74\u001b[0m \u001b[0;34m\u001b[0m\u001b[0m\n\u001b[1;32m     75\u001b[0m     \u001b[0mkwargs\u001b[0m\u001b[0;34m.\u001b[0m\u001b[0msetdefault\u001b[0m\u001b[0;34m(\u001b[0m\u001b[0;34m'allow_redirects'\u001b[0m\u001b[0;34m,\u001b[0m \u001b[0;32mTrue\u001b[0m\u001b[0;34m)\u001b[0m\u001b[0;34m\u001b[0m\u001b[0;34m\u001b[0m\u001b[0m\n\u001b[0;32m---> 76\u001b[0;31m     \u001b[0;32mreturn\u001b[0m \u001b[0mrequest\u001b[0m\u001b[0;34m(\u001b[0m\u001b[0;34m'get'\u001b[0m\u001b[0;34m,\u001b[0m \u001b[0murl\u001b[0m\u001b[0;34m,\u001b[0m \u001b[0mparams\u001b[0m\u001b[0;34m=\u001b[0m\u001b[0mparams\u001b[0m\u001b[0;34m,\u001b[0m \u001b[0;34m**\u001b[0m\u001b[0mkwargs\u001b[0m\u001b[0;34m)\u001b[0m\u001b[0;34m\u001b[0m\u001b[0;34m\u001b[0m\u001b[0m\n\u001b[0m\u001b[1;32m     77\u001b[0m \u001b[0;34m\u001b[0m\u001b[0m\n\u001b[1;32m     78\u001b[0m \u001b[0;34m\u001b[0m\u001b[0m\n",
      "\u001b[0;32m/opt/conda/lib/python3.8/site-packages/requests/api.py\u001b[0m in \u001b[0;36mrequest\u001b[0;34m(method, url, **kwargs)\u001b[0m\n\u001b[1;32m     59\u001b[0m     \u001b[0;31m# cases, and look like a memory leak in others.\u001b[0m\u001b[0;34m\u001b[0m\u001b[0;34m\u001b[0m\u001b[0;34m\u001b[0m\u001b[0m\n\u001b[1;32m     60\u001b[0m     \u001b[0;32mwith\u001b[0m \u001b[0msessions\u001b[0m\u001b[0;34m.\u001b[0m\u001b[0mSession\u001b[0m\u001b[0;34m(\u001b[0m\u001b[0;34m)\u001b[0m \u001b[0;32mas\u001b[0m \u001b[0msession\u001b[0m\u001b[0;34m:\u001b[0m\u001b[0;34m\u001b[0m\u001b[0;34m\u001b[0m\u001b[0m\n\u001b[0;32m---> 61\u001b[0;31m         \u001b[0;32mreturn\u001b[0m \u001b[0msession\u001b[0m\u001b[0;34m.\u001b[0m\u001b[0mrequest\u001b[0m\u001b[0;34m(\u001b[0m\u001b[0mmethod\u001b[0m\u001b[0;34m=\u001b[0m\u001b[0mmethod\u001b[0m\u001b[0;34m,\u001b[0m \u001b[0murl\u001b[0m\u001b[0;34m=\u001b[0m\u001b[0murl\u001b[0m\u001b[0;34m,\u001b[0m \u001b[0;34m**\u001b[0m\u001b[0mkwargs\u001b[0m\u001b[0;34m)\u001b[0m\u001b[0;34m\u001b[0m\u001b[0;34m\u001b[0m\u001b[0m\n\u001b[0m\u001b[1;32m     62\u001b[0m \u001b[0;34m\u001b[0m\u001b[0m\n\u001b[1;32m     63\u001b[0m \u001b[0;34m\u001b[0m\u001b[0m\n",
      "\u001b[0;32m/opt/conda/lib/python3.8/site-packages/requests/sessions.py\u001b[0m in \u001b[0;36mrequest\u001b[0;34m(self, method, url, params, data, headers, cookies, files, auth, timeout, allow_redirects, proxies, hooks, stream, verify, cert, json)\u001b[0m\n\u001b[1;32m    528\u001b[0m         }\n\u001b[1;32m    529\u001b[0m         \u001b[0msend_kwargs\u001b[0m\u001b[0;34m.\u001b[0m\u001b[0mupdate\u001b[0m\u001b[0;34m(\u001b[0m\u001b[0msettings\u001b[0m\u001b[0;34m)\u001b[0m\u001b[0;34m\u001b[0m\u001b[0;34m\u001b[0m\u001b[0m\n\u001b[0;32m--> 530\u001b[0;31m         \u001b[0mresp\u001b[0m \u001b[0;34m=\u001b[0m \u001b[0mself\u001b[0m\u001b[0;34m.\u001b[0m\u001b[0msend\u001b[0m\u001b[0;34m(\u001b[0m\u001b[0mprep\u001b[0m\u001b[0;34m,\u001b[0m \u001b[0;34m**\u001b[0m\u001b[0msend_kwargs\u001b[0m\u001b[0;34m)\u001b[0m\u001b[0;34m\u001b[0m\u001b[0;34m\u001b[0m\u001b[0m\n\u001b[0m\u001b[1;32m    531\u001b[0m \u001b[0;34m\u001b[0m\u001b[0m\n\u001b[1;32m    532\u001b[0m         \u001b[0;32mreturn\u001b[0m \u001b[0mresp\u001b[0m\u001b[0;34m\u001b[0m\u001b[0;34m\u001b[0m\u001b[0m\n",
      "\u001b[0;32m/opt/conda/lib/python3.8/site-packages/requests/sessions.py\u001b[0m in \u001b[0;36msend\u001b[0;34m(self, request, **kwargs)\u001b[0m\n\u001b[1;32m    641\u001b[0m \u001b[0;34m\u001b[0m\u001b[0m\n\u001b[1;32m    642\u001b[0m         \u001b[0;31m# Send the request\u001b[0m\u001b[0;34m\u001b[0m\u001b[0;34m\u001b[0m\u001b[0;34m\u001b[0m\u001b[0m\n\u001b[0;32m--> 643\u001b[0;31m         \u001b[0mr\u001b[0m \u001b[0;34m=\u001b[0m \u001b[0madapter\u001b[0m\u001b[0;34m.\u001b[0m\u001b[0msend\u001b[0m\u001b[0;34m(\u001b[0m\u001b[0mrequest\u001b[0m\u001b[0;34m,\u001b[0m \u001b[0;34m**\u001b[0m\u001b[0mkwargs\u001b[0m\u001b[0;34m)\u001b[0m\u001b[0;34m\u001b[0m\u001b[0;34m\u001b[0m\u001b[0m\n\u001b[0m\u001b[1;32m    644\u001b[0m \u001b[0;34m\u001b[0m\u001b[0m\n\u001b[1;32m    645\u001b[0m         \u001b[0;31m# Total elapsed time of the request (approximately)\u001b[0m\u001b[0;34m\u001b[0m\u001b[0;34m\u001b[0m\u001b[0;34m\u001b[0m\u001b[0m\n",
      "\u001b[0;32m/opt/conda/lib/python3.8/site-packages/requests/adapters.py\u001b[0m in \u001b[0;36msend\u001b[0;34m(self, request, stream, timeout, verify, cert, proxies)\u001b[0m\n\u001b[1;32m    512\u001b[0m             \u001b[0;32mif\u001b[0m \u001b[0misinstance\u001b[0m\u001b[0;34m(\u001b[0m\u001b[0me\u001b[0m\u001b[0;34m.\u001b[0m\u001b[0mreason\u001b[0m\u001b[0;34m,\u001b[0m \u001b[0m_SSLError\u001b[0m\u001b[0;34m)\u001b[0m\u001b[0;34m:\u001b[0m\u001b[0;34m\u001b[0m\u001b[0;34m\u001b[0m\u001b[0m\n\u001b[1;32m    513\u001b[0m                 \u001b[0;31m# This branch is for urllib3 v1.22 and later.\u001b[0m\u001b[0;34m\u001b[0m\u001b[0;34m\u001b[0m\u001b[0;34m\u001b[0m\u001b[0m\n\u001b[0;32m--> 514\u001b[0;31m                 \u001b[0;32mraise\u001b[0m \u001b[0mSSLError\u001b[0m\u001b[0;34m(\u001b[0m\u001b[0me\u001b[0m\u001b[0;34m,\u001b[0m \u001b[0mrequest\u001b[0m\u001b[0;34m=\u001b[0m\u001b[0mrequest\u001b[0m\u001b[0;34m)\u001b[0m\u001b[0;34m\u001b[0m\u001b[0;34m\u001b[0m\u001b[0m\n\u001b[0m\u001b[1;32m    515\u001b[0m \u001b[0;34m\u001b[0m\u001b[0m\n\u001b[1;32m    516\u001b[0m             \u001b[0;32mraise\u001b[0m \u001b[0mConnectionError\u001b[0m\u001b[0;34m(\u001b[0m\u001b[0me\u001b[0m\u001b[0;34m,\u001b[0m \u001b[0mrequest\u001b[0m\u001b[0;34m=\u001b[0m\u001b[0mrequest\u001b[0m\u001b[0;34m)\u001b[0m\u001b[0;34m\u001b[0m\u001b[0;34m\u001b[0m\u001b[0m\n",
      "\u001b[0;31mSSLError\u001b[0m: HTTPSConnectionPool(host='kartta.hsy.fi', port=443): Max retries exceeded with url: /geoserver/wfs?service=WFS&version=2.0.0&request=GetFeature&typeName=asuminen_ja_maankaytto%3AVaestotietoruudukko_2020&outputFormat=json (Caused by SSLError(SSLCertVerificationError(1, '[SSL: CERTIFICATE_VERIFY_FAILED] certificate verify failed: unable to get local issuer certificate (_ssl.c:1124)')))"
     ]
    }
   ],
   "source": [
    "import geopandas as gpd\n",
    "from pyproj import CRS\n",
    "import requests\n",
    "import geojson\n",
    "\n",
    "# Specify the url for web feature service\n",
    "url = 'https://kartta.hsy.fi/geoserver/wfs'\n",
    "\n",
    "# Specify parameters (read data in json format).\n",
    "# Available feature types in this particular data source: http://geo.stat.fi/geoserver/vaestoruutu/wfs?service=wfs&version=2.0.0&request=describeFeatureType\n",
    "params = dict(service='WFS',\n",
    "              version='2.0.0',\n",
    "              request='GetFeature',\n",
    "              typeName='asuminen_ja_maankaytto:Vaestotietoruudukko_2020',\n",
    "              outputFormat='json')\n",
    "\n",
    "# Fetch data from WFS using requests\n",
    "r = requests.get(url, params=params)\n",
    "\n",
    "# Create GeoDataFrame from geojson\n",
    "data = gpd.GeoDataFrame.from_features(geojson.loads(r.content))\n",
    "# Clean overall cell\n",
    "data = data[data['index'] != 27699]\n",
    "# Check the data\n",
    "data.head()"
   ]
  },
  {
   "cell_type": "code",
   "execution_count": null,
   "metadata": {},
   "outputs": [],
   "source": [
    "from pyproj import CRS\n",
    "# Define crs\n",
    "data.crs = CRS.from_epsg(3879)"
   ]
  },
  {
   "cell_type": "markdown",
   "metadata": {},
   "source": [
    "Re-project layer into WGS 84 (epsg: 4326)"
   ]
  },
  {
   "cell_type": "code",
   "execution_count": null,
   "metadata": {},
   "outputs": [],
   "source": [
    "# Re-project to WGS84\n",
    "data = data.to_crs(epsg=4326)\n",
    "# Check layer crs definition\n",
    "print(data.crs)"
   ]
  },
  {
   "cell_type": "markdown",
   "metadata": {
    "deletable": true,
    "editable": true
   },
   "source": [
    "Rename columns"
   ]
  },
  {
   "cell_type": "code",
   "execution_count": null,
   "metadata": {},
   "outputs": [],
   "source": [
    "# Change the name of a column\n",
    "data = data.rename(columns={'asukkaita':'pop20'})\n",
    "data.head()"
   ]
  },
  {
   "cell_type": "code",
   "execution_count": null,
   "metadata": {},
   "outputs": [],
   "source": [
    "# Create a Geo-id which is needed by the Folium (it needs to have a unique identifier for each row)\n",
    "data['geoid'] = data.index.astype(str)"
   ]
  },
  {
   "cell_type": "code",
   "execution_count": null,
   "metadata": {
    "collapsed": false,
    "deletable": true,
    "editable": true,
    "jupyter": {
     "outputs_hidden": false
    }
   },
   "outputs": [],
   "source": [
    "# Select only needed columns\n",
    "data = data[['geoid', 'pop20', 'geometry']]\n",
    "\n",
    "# Convert to geojson (not needed for the simple coropleth map!)\n",
    "#pop_json = data.to_json()\n",
    "\n",
    "#check data\n",
    "data.head()"
   ]
  },
  {
   "cell_type": "markdown",
   "metadata": {},
   "source": [
    "Create an interactive choropleth map from the population grid:"
   ]
  },
  {
   "cell_type": "code",
   "execution_count": 41,
   "metadata": {
    "collapsed": false,
    "deletable": true,
    "editable": true,
    "jupyter": {
     "outputs_hidden": false
    }
   },
   "outputs": [
    {
     "ename": "NameError",
     "evalue": "name 'data' is not defined",
     "output_type": "error",
     "traceback": [
      "\u001b[0;31m---------------------------------------------------------------------------\u001b[0m",
      "\u001b[0;31mNameError\u001b[0m                                 Traceback (most recent call last)",
      "\u001b[0;32m<ipython-input-41-5760f0d5ff31>\u001b[0m in \u001b[0;36m<module>\u001b[0;34m\u001b[0m\n\u001b[1;32m      6\u001b[0m \u001b[0;31m# Notice: 'geoid' column that we created earlier needs to be assigned always as the first column\u001b[0m\u001b[0;34m\u001b[0m\u001b[0;34m\u001b[0m\u001b[0;34m\u001b[0m\u001b[0m\n\u001b[1;32m      7\u001b[0m folium.Choropleth(\n\u001b[0;32m----> 8\u001b[0;31m     \u001b[0mgeo_data\u001b[0m\u001b[0;34m=\u001b[0m \u001b[0mdata\u001b[0m\u001b[0;34m,\u001b[0m\u001b[0;34m\u001b[0m\u001b[0;34m\u001b[0m\u001b[0m\n\u001b[0m\u001b[1;32m      9\u001b[0m     \u001b[0mname\u001b[0m \u001b[0;34m=\u001b[0m \u001b[0;34m'population in 2020'\u001b[0m\u001b[0;34m,\u001b[0m\u001b[0;34m\u001b[0m\u001b[0;34m\u001b[0m\u001b[0m\n\u001b[1;32m     10\u001b[0m     \u001b[0mcolumns\u001b[0m\u001b[0;34m=\u001b[0m \u001b[0;34m[\u001b[0m\u001b[0;34m'geoid'\u001b[0m\u001b[0;34m,\u001b[0m\u001b[0;34m'pop20'\u001b[0m\u001b[0;34m]\u001b[0m\u001b[0;34m,\u001b[0m\u001b[0;34m\u001b[0m\u001b[0;34m\u001b[0m\u001b[0m\n",
      "\u001b[0;31mNameError\u001b[0m: name 'data' is not defined"
     ]
    }
   ],
   "source": [
    "# Create a Map instance\n",
    "m =folium.Map(location=[60.25,24.8],\n",
    "             tiles='cartodbpositron',\n",
    "             zoom_start=10)\n",
    "# Plot a choropleth map\n",
    "# Notice: 'geoid' column that we created earlier needs to be assigned always as the first column\n",
    "folium.Choropleth(\n",
    "    geo_data= data,\n",
    "    name = 'population in 2020',\n",
    "    columns= ['geoid','pop20'],\n",
    "    data = data,\n",
    "    fill_color = 'YlOrRd',\n",
    "    key_on = 'feature.id',\n",
    "    line_weight = 0,\n",
    "    legend_name ='population in Helsinki'\n",
    ").add_to(m)\n",
    "\n",
    "#Show map\n",
    "m"
   ]
  },
  {
   "cell_type": "markdown",
   "metadata": {},
   "source": [
    "### Tooltips\n",
    "\n",
    "It is possible to add different kinds of pop-up messages and tooltips to the map. Here, it would be nice to see the population of each grid cell when you hover the mouse over the map. Unfortunately this functionality is not apparently implemented implemented in the Choropleth method we used before. \n",
    "\n",
    "Add tooltips, we can add tooltips to our map when plotting the polygons as GeoJson objects using the `GeoJsonTooltip` feature. (following examples from [here](http://nbviewer.jupyter.org/gist/jtbaker/57a37a14b90feeab7c67a687c398142c?flush_cache=true) and [here](https://nbviewer.jupyter.org/github/jtbaker/folium/blob/geojsonmarker/examples/GeoJsonMarkersandTooltips.ipynb))\n",
    "\n",
    "For a quick workaround, we plot the polygons on top of the coropleth map as a transparent layer, and add the tooltip to these objects. *Note: this is not an optimal solution as now the polygon geometry get's stored twice in the output!*"
   ]
  },
  {
   "cell_type": "code",
   "execution_count": 62,
   "metadata": {},
   "outputs": [
    {
     "ename": "NameError",
     "evalue": "name 'data' is not defined",
     "output_type": "error",
     "traceback": [
      "\u001b[0;31m---------------------------------------------------------------------------\u001b[0m",
      "\u001b[0;31mNameError\u001b[0m                                 Traceback (most recent call last)",
      "\u001b[0;32m<ipython-input-62-ad593c0860dc>\u001b[0m in \u001b[0;36m<module>\u001b[0;34m\u001b[0m\n\u001b[1;32m      1\u001b[0m \u001b[0;31m# Convert points to GeoJson\u001b[0m\u001b[0;34m\u001b[0m\u001b[0;34m\u001b[0m\u001b[0;34m\u001b[0m\u001b[0m\n\u001b[0;32m----> 2\u001b[0;31m folium.features.GeoJson(data,  \n\u001b[0m\u001b[1;32m      3\u001b[0m                         \u001b[0mname\u001b[0m\u001b[0;34m=\u001b[0m\u001b[0;34m'Labels'\u001b[0m\u001b[0;34m,\u001b[0m\u001b[0;34m\u001b[0m\u001b[0;34m\u001b[0m\u001b[0m\n\u001b[1;32m      4\u001b[0m                         \u001b[0mstyle_function\u001b[0m\u001b[0;34m=\u001b[0m\u001b[0;32mlambda\u001b[0m \u001b[0mx\u001b[0m\u001b[0;34m:\u001b[0m \u001b[0;34m{\u001b[0m\u001b[0;34m'color'\u001b[0m\u001b[0;34m:\u001b[0m\u001b[0;34m'transparent'\u001b[0m\u001b[0;34m,\u001b[0m\u001b[0;34m'fillColor'\u001b[0m\u001b[0;34m:\u001b[0m\u001b[0;34m'transparent'\u001b[0m\u001b[0;34m,\u001b[0m\u001b[0;34m'weight'\u001b[0m\u001b[0;34m:\u001b[0m\u001b[0;36m0\u001b[0m\u001b[0;34m}\u001b[0m\u001b[0;34m,\u001b[0m\u001b[0;34m\u001b[0m\u001b[0;34m\u001b[0m\u001b[0m\n\u001b[1;32m      5\u001b[0m                         tooltip=folium.features.GeoJsonTooltip(fields=['pop20'],\n",
      "\u001b[0;31mNameError\u001b[0m: name 'data' is not defined"
     ]
    }
   ],
   "source": [
    "# Convert points to GeoJson\n",
    "folium.features.GeoJson(data,  \n",
    "                        name='Labels',\n",
    "                        style_function=lambda x: {'color':'transparent','fillColor':'transparent','weight':0},\n",
    "                        tooltip=folium.features.GeoJsonTooltip(fields=['pop20'],\n",
    "                                                                aliases = ['Population'],\n",
    "                                                                labels=True,\n",
    "                                                                sticky=False\n",
    "                                                                            )\n",
    "                       ).add_to(m)\n",
    "\n",
    "m"
   ]
  },
  {
   "cell_type": "markdown",
   "metadata": {},
   "source": [
    "Rember that you can also save the output as an html file: "
   ]
  },
  {
   "cell_type": "code",
   "execution_count": null,
   "metadata": {},
   "outputs": [],
   "source": []
  },
  {
   "cell_type": "markdown",
   "metadata": {},
   "source": [
    "Extra: check out plotly express for an alternative way of plotting an interactive Choropleth map [in here](https://plotly.com/python/mapbox-county-choropleth/)."
   ]
  }
 ],
 "metadata": {
  "anaconda-cloud": {},
  "kernelspec": {
   "display_name": "Python 3",
   "language": "python",
   "name": "python3"
  },
  "language_info": {
   "codemirror_mode": {
    "name": "ipython",
    "version": 3
   },
   "file_extension": ".py",
   "mimetype": "text/x-python",
   "name": "python",
   "nbconvert_exporter": "python",
   "pygments_lexer": "ipython3",
   "version": "3.8.6"
  }
 },
 "nbformat": 4,
 "nbformat_minor": 4
}
